{
 "cells": [
  {
   "cell_type": "markdown",
   "id": "13c3a6c4-b282-410d-a487-b1ba79ab52e3",
   "metadata": {},
   "source": [
    "**Đọc file genbank, nguồn https://www.ncbi.nlm.nih.gov/nuccore/AB106130.2**"
   ]
  },
  {
   "cell_type": "code",
   "execution_count": null,
   "id": "d9c0de64-bfbd-4c63-a78a-32fa9e5f18a2",
   "metadata": {},
   "outputs": [],
   "source": [
    "from Bio import SeqIO\n",
    "file_path = r\"C:\\Users\\HP\\Downloads\\sequence\\p10.gb\""
   ]
  },
  {
   "cell_type": "code",
   "execution_count": 50,
   "id": "3dcd05c7-1b53-49a5-acee-63872da219ba",
   "metadata": {},
   "outputs": [],
   "source": [
    "genbank_object=SeqIO.read(file_path,'gb')"
   ]
  },
  {
   "cell_type": "code",
   "execution_count": 51,
   "id": "5518a020-e69a-40ed-8a34-edabad830ccf",
   "metadata": {
    "scrolled": true
   },
   "outputs": [
    {
     "name": "stdout",
     "output_type": "stream",
     "text": [
      "AB106130.2\n"
     ]
    }
   ],
   "source": [
    "record_id = genbank_object.id\n",
    "print (record_id)"
   ]
  },
  {
   "cell_type": "code",
   "execution_count": 52,
   "id": "c2f883f2-0d27-4f0a-beed-9f2cd3515839",
   "metadata": {},
   "outputs": [
    {
     "name": "stdout",
     "output_type": "stream",
     "text": [
      "AB106130\n"
     ]
    }
   ],
   "source": [
    "record_name=genbank_object.name\n",
    "print (record_name)"
   ]
  },
  {
   "cell_type": "code",
   "execution_count": 53,
   "id": "bd6b23ea-0fc1-48a3-a48e-e7b6af748f8c",
   "metadata": {},
   "outputs": [
    {
     "name": "stdout",
     "output_type": "stream",
     "text": [
      "1873\n",
      "CTGCAGCGTCAGCAGCGCGGCGCGATTAAACTCACGGTCGTTGTACGTCGACGCCGAGTCGTCCGTAGCATACACGTAATACTTGTACATGTTGGCGAATGATGCGGCTGCACTTTATATACTGCTGTGCTCCGCAAACCTCGCATAAACACACGTGATGGATAACAAAATGTACGTGCGCATGGAGATTAAGTTTGACGAGGACACGGGCCGTTTGCAAATTGGTGACCGGGACGTGTTTGTGCGCGTGTTTGAGCCCGGCCAAGAGGTGTTTGACGAAACGTTGGACCAATACCACCAGTTTCCCGGCGTGGCCACAGACGTTGTGTTTCCGCAAGTGGACACGGGCGCGACGGTGAGCGTGCACACCGCGGCCGGCGCGTACTCAGGGCCGCTAACCGCCAGCTGCTTCAATTACCACGTGTGCAACAAGCGCTTCGTGTTTGGTGTTTTGCCGGCGCTCGAGGTGCCCGCCGACGTAAGCCCGCACCTGCGCGTCGGCGCGCCCATCCTCTGCAACGAGCAATTGGTGTCCGTGGTGACGGCCGTGCACGAGCGCGCCGACGGCGTCTGGCTGGTGCCCGTGACGGGCGTGCGCGGGCCGCACCAGGTGTCGGGACACGCGCGCGTGTGCAATGGCGTGCGCGCAGAGCGCCTGCGCGCCGGGCGGTCGGTGTACGGCGCGGTGCAACTACCATATGACAAACTGAAGACGCACGCGCTATCGCAAACGGCGCCACACGCTGAAGCTTCCGAATCGTGCGCGCTGTTTTACAATGACTCTGAAGTGCGCATTACTTTTAACAAAGGCAGTTTTGAATTGATGCACTGGCGATTGCCGGGGCCTTTTGTTGCCACAGCGTTAAATAAGCATTATTGACAATTTATTATTATATCATTGAAATAGTTATAATATTTTACCATGTCCAAACCAAGCATTTTACAACAAATTTTGACAGCTGTGCAAGATGTCGACACAAAAGTTGACGCGTTGCAAGCGCAACTGACTGAATTGGACGGCAAAGTTCAGCCGTTAGATGGTTTGTCCGAGCAACTGACCGCTTTGGATACTAAAGTGACCACAATTCAAGACATACTAGGTGGAGCGGAAATTCCCGATATTCCCGATGTGCCTCTACCCGACAATCCTTTGAACAAAACCCGCAGTCAAGCAAAATTAAAATAGCAAGTCAATGGTTTTAAAATATTCGTACGGTTCCTTGATTAAATAGTACAATGCAATCATTAAAAATATCGCAAAGTACACAAAAAATGTAAGCTCTTTGTACAATATAAAGGCCGCAACGGCCGCCCCCGTGTTCAGCAAAAATAAACCCGCTACCACCCTATTTAATTTGTTATTATTTTCGTTCATGTCCAATAGCGTGTTTTGCCTAAACGTGTACTGCATAAACTCGAGACGCGTGTACAGCGAGCTGCTGGCCAGCGCTTGGCCCACCAGCGTCGCCTCGTCAAAATCTGTAATCTGGTCACTTTCATCCAATTGTAGCATTTGACCGTCCGAATTGACCTCAAGCGCCGCCACGTAGTCGAGCAGGTGGTACAGCGATTGGAACATGGCGTCGTCGTCTGTCTCTACAAAATCGGCAAAAAATTCGGGCAAAAACTCTATGATTTCGCGCGAGCTGTTGGCGTCCAGCGTTTCAAAGTAGGCGGTAAGAAACGTGCGCGACAAGTCGTCGGGAAACTCGCGCGGAAACATGTTGCTGTACCCAAACGGGTCCCACAGCGCCAGCACCAAATCGGCCAGCGTGAACAAAATCAAGACTATGCCCACCACGGAGCTGGCCTTGATGGCGATGCGCGTTAGGGCTTTGGCTGCCGTGGTGAGCGTCTTGATGGCAATTCGGTT\n"
     ]
    }
   ],
   "source": [
    "record_seq=genbank_object.seq\n",
    "sequence_length=len(record_seq)\n",
    "print (sequence_length)\n",
    "print (record_seq)"
   ]
  },
  {
   "cell_type": "code",
   "execution_count": 54,
   "id": "46c94b8f-bc27-4bff-9e88-631e8470a5b3",
   "metadata": {},
   "outputs": [],
   "source": [
    "#xuất ra thông tin chi tiết của bản ghi\n",
    "annotations = genbank_object.annotations"
   ]
  },
  {
   "cell_type": "raw",
   "id": "cbea2976-05be-4784-8d35-7d3e93e94115",
   "metadata": {},
   "source": [
    "#file này không có description\n",
    "description=genbank_object.description\n",
    "print (description)"
   ]
  },
  {
   "cell_type": "code",
   "execution_count": 55,
   "id": "ab428459-fbfe-46e9-b1f0-73f264171572",
   "metadata": {},
   "outputs": [
    {
     "name": "stdout",
     "output_type": "stream",
     "text": [
      "{'molecule_type': 'DNA', 'topology': 'linear', 'data_file_division': 'VRL', 'date': '09-MAR-2024', 'accessions': ['AB106130'], 'sequence_version': 2, 'keywords': [''], 'source': 'Antheraea pernyi nucleopolyhedrovirus', 'organism': 'Antheraea pernyi nucleopolyhedrovirus', 'taxonomy': ['Viruses', 'Viruses incertae sedis', 'Naldaviricetes', 'Lefavirales', 'Baculoviridae', 'Alphabaculovirus', 'Alphabaculovirus anpernyi'], 'references': [Reference(title='Construction of p10 promoter-based transfer vector of Antheraea pernyi nucleopolyhedrovirus', ...), Reference(title='Direct Submission', ...)], 'comment': 'On Mar 9, 2004 this sequence version replaced AB106130.1.'}\n"
     ]
    }
   ],
   "source": [
    "print (annotations)"
   ]
  },
  {
   "cell_type": "code",
   "execution_count": 56,
   "id": "000384f0-2b8c-4b55-a33f-41e92caa1ca1",
   "metadata": {},
   "outputs": [],
   "source": [
    "#xuất thông tin về vùng DNA được gắn nhãn(feature)\n",
    "features=genbank_object.features\n",
    "feature_types=[feature.type for feature in features]\n",
    "feature_types=set(feature_types)\n",
    "feature_type=list(feature_types)"
   ]
  },
  {
   "cell_type": "code",
   "execution_count": 57,
   "id": "966cdcd2-9b51-4329-bc02-fe3567af60ba",
   "metadata": {},
   "outputs": [
    {
     "name": "stdout",
     "output_type": "stream",
     "text": [
      "{'regulatory', 'source', 'gene', 'CDS'}\n"
     ]
    }
   ],
   "source": [
    "print (feature_types)"
   ]
  },
  {
   "cell_type": "markdown",
   "id": "02dfed7b-651d-492c-b21c-9b709af52fea",
   "metadata": {},
   "source": [
    "GC Content Calculator"
   ]
  },
  {
   "cell_type": "code",
   "execution_count": 78,
   "id": "47946084-0296-4334-879a-9ff726e710c1",
   "metadata": {},
   "outputs": [
    {
     "data": {
      "text/plain": [
       "0.5232247730912973"
      ]
     },
     "execution_count": 78,
     "metadata": {},
     "output_type": "execute_result"
    }
   ],
   "source": [
    "from Bio.SeqUtils import gc_fraction\n",
    "gc_fraction(record_seq)"
   ]
  },
  {
   "cell_type": "markdown",
   "id": "47aeee30-6187-4a13-aea4-052f952dded5",
   "metadata": {},
   "source": [
    "Dịch mã vùng CDS"
   ]
  },
  {
   "cell_type": "code",
   "execution_count": 59,
   "id": "10d82f37-762c-472f-b8f2-1239fa801c16",
   "metadata": {},
   "outputs": [
    {
     "name": "stdout",
     "output_type": "stream",
     "text": [
      "['MDNKMYVRMEIKFDEDTGRLQIGDRDVFVRVFEPGQEVFDETLDQYHQFPGVATDVVFPQVDTGATVSVHTAAGAYSGPLTASCFNYHVCNKRFVFGVLPALEVPADVSPHLRVGAPILCNEQLVSVVTAVHERADGVWLVPVTGVRGPHQVSGHARVCNGVRAERLRAGRSVYGAVQLPYDKLKTHALSQTAPHAEASESCALFYNDSEVRITFNKGSFELMHWRLPGPFVATALNKHY']\n",
      "['MSKPSILQQILTAVQDVDTKVDALQAQLTELDGKVQPLDGLSEQLTALDTKVTTIQDILGGAEIPDIPDVPLPDNPLNKTRSQAKLK']\n",
      "['NRIAIKTLTTAAKALTRIAIKASSVVGIVLILFTLADLVLALWDPFGYSNMFPREFPDDLSRTFLTAYFETLDANSSREIIEFLPEFFADFVETDDDAMFQSLYHLLDYVAALEVNSDGQMLQLDESDQITDFDEATLVGQALASSSLYTRLEFMQYTFRQNTLLDMNENNNKLNRVVAGLFLLNTGAAVAAFILYKELTFFVYFAIFLMIALYYLIKEPYEYFKTIDLLF']\n"
     ]
    }
   ],
   "source": [
    "for feature in features:\n",
    "    if feature.type == \"CDS\":\n",
    "        protein = feature.qualifiers.get(\"translation\")\n",
    "        print(protein)"
   ]
  },
  {
   "cell_type": "markdown",
   "id": "0022a25f-1558-4ac8-9b4f-02cc1dfa4176",
   "metadata": {},
   "source": [
    "Tìm vị trí motif"
   ]
  },
  {
   "cell_type": "code",
   "execution_count": 60,
   "id": "8137f984-1312-4d92-b5af-5f7a1e3d5cb4",
   "metadata": {},
   "outputs": [
    {
     "name": "stdout",
     "output_type": "stream",
     "text": [
      "[88, 98, 101, 157, 169, 181, 635, 698, 776, 823, 922, 968, 1037, 1127, 1193, 1236, 1272, 1373, 1577, 1631, 1721, 1790, 1814, 1820, 1859]\n"
     ]
    }
   ],
   "source": [
    "motif = \"ATG\"\n",
    "positions = [i for i in range(len(record_seq)) if record_seq[i:i+3] == motif]\n",
    "print(positions)"
   ]
  },
  {
   "cell_type": "markdown",
   "id": "7fdeba9a-1a42-425e-8914-455da57d8404",
   "metadata": {},
   "source": [
    "Chuyển thành file fasta "
   ]
  },
  {
   "cell_type": "code",
   "execution_count": 61,
   "id": "f1614026-dff5-4864-b4a5-c1f09d075886",
   "metadata": {},
   "outputs": [
    {
     "name": "stdout",
     "output_type": "stream",
     "text": [
      "đã lưu file AB106130.fasta\n"
     ]
    }
   ],
   "source": [
    "fasta_format_string = f\">record_name\\n{record_seq}\\n\"\n",
    "with open(\"AB106130.fasta\", \"w\") as f:\n",
    "    f.write(fasta_format_string)\n",
    "\n",
    "print(\"đã lưu file AB106130.fasta\")"
   ]
  },
  {
   "cell_type": "markdown",
   "id": "cfc4b2d6-f634-43d9-b74f-8e8dfe5edf38",
   "metadata": {},
   "source": [
    "**Thống kê feature, nguồn genome https://www.ncbi.nlm.nih.gov/nuccore/cp013957**"
   ]
  },
  {
   "cell_type": "code",
   "execution_count": 62,
   "id": "d07b39c1-6e78-45c4-9f8e-b04136b7d74d",
   "metadata": {},
   "outputs": [],
   "source": [
    "import pandas as pd\n",
    "from collections import Counter"
   ]
  },
  {
   "cell_type": "code",
   "execution_count": 63,
   "id": "6563f39d-77b4-4ade-ad86-4e12a2d5e9d0",
   "metadata": {},
   "outputs": [],
   "source": [
    "from Bio import SeqIO\n",
    "import pandas as pd\n",
    "from collections import Counter"
   ]
  },
  {
   "cell_type": "code",
   "execution_count": 64,
   "id": "3c76af4c-8679-4d63-9a1a-bdec98ff5e9e",
   "metadata": {},
   "outputs": [],
   "source": [
    "file_path=r\"C:\\Users\\HP\\Downloads\\sequence\\cp013957.gb\""
   ]
  },
  {
   "cell_type": "code",
   "execution_count": 81,
   "id": "f9a2723c-f434-45ae-bdaa-ccdd5cb9e4e6",
   "metadata": {},
   "outputs": [],
   "source": [
    "genbank_object=SeqIO.read(file_path,'gb')"
   ]
  },
  {
   "cell_type": "code",
   "execution_count": 82,
   "id": "c64ea255-06a0-4f63-bfd6-46b7bb9f8f34",
   "metadata": {},
   "outputs": [
    {
     "name": "stdout",
     "output_type": "stream",
     "text": [
      "3085555\n"
     ]
    }
   ],
   "source": [
    "record_seq=genbank_object.seq\n",
    "sequence_length=len(record_seq)\n",
    "print (sequence_length)"
   ]
  },
  {
   "cell_type": "code",
   "execution_count": 66,
   "id": "5560cdae-35e1-446a-bb75-d8d87d31b15a",
   "metadata": {},
   "outputs": [],
   "source": [
    "all_feature_types=[feature.type for feature in genbank_object.features]"
   ]
  },
  {
   "cell_type": "code",
   "execution_count": 67,
   "id": "64299f8c-4cc6-4fbe-a111-faffc34dc319",
   "metadata": {},
   "outputs": [
    {
     "data": {
      "text/plain": [
       "6399"
      ]
     },
     "execution_count": 67,
     "metadata": {},
     "output_type": "execute_result"
    }
   ],
   "source": [
    "len(all_feature_types)"
   ]
  },
  {
   "cell_type": "code",
   "execution_count": 68,
   "id": "9e1b4a12-2e52-491b-b0c5-fd0b4cc96b3a",
   "metadata": {},
   "outputs": [
    {
     "name": "stdout",
     "output_type": "stream",
     "text": [
      "{'tRNA', 'misc_binding', 'CDS', 'tmRNA', 'source', 'rRNA', 'gene', 'ncRNA'}\n"
     ]
    }
   ],
   "source": [
    "feature_types=set(all_feature_types)\n",
    "print (feature_types)"
   ]
  },
  {
   "cell_type": "code",
   "execution_count": 69,
   "id": "5a783b17-08e1-42cd-a53d-823c8dfc8ea1",
   "metadata": {},
   "outputs": [],
   "source": [
    "feature_counts=Counter(all_feature_types)"
   ]
  },
  {
   "cell_type": "code",
   "execution_count": 70,
   "id": "5dd5ca3c-d94a-41ed-8841-6c332281863f",
   "metadata": {},
   "outputs": [
    {
     "data": {
      "text/plain": [
       "dict_keys(['source', 'gene', 'CDS', 'misc_binding', 'tRNA', 'ncRNA', 'rRNA', 'tmRNA'])"
      ]
     },
     "execution_count": 70,
     "metadata": {},
     "output_type": "execute_result"
    }
   ],
   "source": [
    "feature_counts.keys()"
   ]
  },
  {
   "cell_type": "code",
   "execution_count": 71,
   "id": "097005fa-460b-4efe-9045-c49e9a884665",
   "metadata": {},
   "outputs": [
    {
     "name": "stdout",
     "output_type": "stream",
     "text": [
      "3194\n"
     ]
    }
   ],
   "source": [
    "feature_counts['gene'] \n",
    "print (feature_counts['gene'])"
   ]
  },
  {
   "cell_type": "code",
   "execution_count": 72,
   "id": "81b1d22e-0c7c-4fb2-9743-88e43be3b182",
   "metadata": {},
   "outputs": [
    {
     "name": "stdout",
     "output_type": "stream",
     "text": [
      "source 1\n",
      "gene 3194\n",
      "CDS 3114\n",
      "misc_binding 10\n",
      "tRNA 60\n",
      "ncRNA 3\n",
      "rRNA 16\n",
      "tmRNA 1\n"
     ]
    }
   ],
   "source": [
    "for key, value in feature_counts.items():\n",
    "    print(key,value)\n"
   ]
  },
  {
   "cell_type": "markdown",
   "id": "ec55f0dd-fbda-4439-8a70-a276480bfcaa",
   "metadata": {},
   "source": [
    "tạo DataFrame"
   ]
  },
  {
   "cell_type": "code",
   "execution_count": 73,
   "id": "48be690d-12fc-4f0f-a86a-3a6ef434dbaf",
   "metadata": {},
   "outputs": [],
   "source": [
    "del feature_counts['source']"
   ]
  },
  {
   "cell_type": "code",
   "execution_count": 74,
   "id": "ec5f10e5-33a0-4b68-a735-8d38dfb35b42",
   "metadata": {},
   "outputs": [],
   "source": [
    "dataframe=pd.DataFrame(feature_counts.items(),columns=['feature','count'])"
   ]
  },
  {
   "cell_type": "code",
   "execution_count": 75,
   "id": "93421a58-64e5-41e2-a1c1-90280fb1bae1",
   "metadata": {},
   "outputs": [
    {
     "data": {
      "text/plain": [
       "(7, 2)"
      ]
     },
     "execution_count": 75,
     "metadata": {},
     "output_type": "execute_result"
    }
   ],
   "source": [
    "dataframe.shape"
   ]
  },
  {
   "cell_type": "code",
   "execution_count": 76,
   "id": "050729ae-890c-4360-93fe-932a661e783d",
   "metadata": {},
   "outputs": [
    {
     "name": "stdout",
     "output_type": "stream",
     "text": [
      "        feature  count\n",
      "0          gene   3194\n",
      "1           CDS   3114\n",
      "2  misc_binding     10\n",
      "3          tRNA     60\n",
      "4         ncRNA      3\n",
      "5          rRNA     16\n",
      "6         tmRNA      1\n"
     ]
    }
   ],
   "source": [
    "print (dataframe)"
   ]
  },
  {
   "cell_type": "markdown",
   "id": "15fe7ce6-8e5a-41be-bdf4-bd9a666812a4",
   "metadata": {},
   "source": [
    "Tạo bar chart "
   ]
  },
  {
   "cell_type": "code",
   "execution_count": 77,
   "id": "fdc2a4e9-de03-43f1-be35-d17a5db6c6d9",
   "metadata": {},
   "outputs": [
    {
     "data": {
      "image/png": "[encoded data removed]",
      "text/plain": [
       "<Figure size 640x480 with 1 Axes>"
      ]
     },
     "metadata": {},
     "output_type": "display_data"
    }
   ],
   "source": [
    "import matplotlib.pyplot as plt\n",
    "dataframe.plot.bar(x='feature', y='count', rot=45, title='Number of features in GenBank file')\n",
    "plt.show()"
   ]
  },
  {
   "cell_type": "markdown",
   "id": "e206e751-99b3-4cf5-9560-0a7ccf892e8b",
   "metadata": {},
   "source": [
    "-> Dataset chủ yếu là gene protein-coding, các RNA chức năng và misc_binding chiếm ít. Số lượng CDS gần bằng số lượng gene do đây là genome vi sinh vật "
   ]
  },
  {
   "cell_type": "code",
   "execution_count": null,
   "id": "e77f0354-7da4-4410-9b9d-61a198840743",
   "metadata": {},
   "outputs": [],
   "source": []
  },
  {
   "cell_type": "code",
   "execution_count": null,
   "id": "93e344e0-b66b-4b2a-82d1-812d548fb29f",
   "metadata": {},
   "outputs": [],
   "source": []
  },
  {
   "cell_type": "code",
   "execution_count": null,
   "id": "92659a63-c5c7-4126-9ce6-93214043e17c",
   "metadata": {},
   "outputs": [],
   "source": []
  },
  {
   "cell_type": "code",
   "execution_count": null,
   "id": "bd72bbd0-086d-43ed-8cd4-7f022438ae3d",
   "metadata": {},
   "outputs": [],
   "source": []
  },
  {
   "cell_type": "code",
   "execution_count": null,
   "id": "3a19098d-4d05-426d-8828-1bcd9727adb8",
   "metadata": {},
   "outputs": [],
   "source": []
  },
  {
   "cell_type": "code",
   "execution_count": null,
   "id": "1e5c80a0-cea9-4fb6-8f71-4e4b0995af7d",
   "metadata": {},
   "outputs": [],
   "source": []
  }
 ],
 "metadata": {
  "kernelspec": {
   "display_name": "Python 3 (ipykernel)",
   "language": "python",
   "name": "python3"
  },
  "language_info": {
   "codemirror_mode": {
    "name": "ipython",
    "version": 3
   },
   "file_extension": ".py",
   "mimetype": "text/x-python",
   "name": "python",
   "nbconvert_exporter": "python",
   "pygments_lexer": "ipython3",
   "version": "3.13.5"
  }
 },
 "nbformat": 4,
 "nbformat_minor": 5
}
